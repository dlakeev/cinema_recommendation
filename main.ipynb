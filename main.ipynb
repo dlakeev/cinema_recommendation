{
 "cells": [
  {
   "cell_type": "code",
   "execution_count": 1,
   "metadata": {},
   "outputs": [
    {
     "name": "stderr",
     "output_type": "stream",
     "text": [
      "[nltk_data] Downloading package punkt to\n",
      "[nltk_data]     C:\\Users\\skliz\\AppData\\Roaming\\nltk_data...\n",
      "[nltk_data]   Package punkt is already up-to-date!\n",
      "[nltk_data] Downloading package wordnet to\n",
      "[nltk_data]     C:\\Users\\skliz\\AppData\\Roaming\\nltk_data...\n",
      "[nltk_data]   Package wordnet is already up-to-date!\n"
     ]
    }
   ],
   "source": [
    "import pandas as pd\n",
    "\n",
    "import re\n",
    "from pymorphy2 import MorphAnalyzer\n",
    "from nltk.stem import SnowballStemmer\n",
    "from nltk.corpus import stopwords\n",
    "import nltk\n",
    "nltk.download('punkt')\n",
    "nltk.download('wordnet')\n",
    "\n",
    "from sklearn.feature_extraction.text import TfidfVectorizer\n",
    "from joblib import Parallel, delayed\n",
    "\n",
    "from tqdm import tqdm\n",
    "from joblib import Parallel, delayed\n",
    "\n",
    "from IPython.display import display, Image\n",
    "\n",
    "from math import sqrt"
   ]
  },
  {
   "cell_type": "code",
   "execution_count": 2,
   "metadata": {},
   "outputs": [],
   "source": [
    "df = pd.read_csv('./data/data.csv')"
   ]
  },
  {
   "cell_type": "code",
   "execution_count": 3,
   "metadata": {},
   "outputs": [],
   "source": [
    "def clean_text(x: str,\n",
    "               morph: MorphAnalyzer = MorphAnalyzer(),\n",
    "               sno: SnowballStemmer = SnowballStemmer('russian'),\n",
    "               stop_words: list = stopwords.words('russian'),\n",
    "               min_len_word: int = 2) -> str:\n",
    "    # Приведение к нижнему регистру\n",
    "    x = x.lower()\n",
    "    # Удаление всех символов, цифр\n",
    "    x = re.sub(r'[^а-я]+', ' ', x)\n",
    "    # Удаление повторяющихся пробелов\n",
    "    x = re.sub(r' +', ' ', x)\n",
    "\n",
    "    word_tokenization = x.split(' ')   # Токенизация слов\n",
    "\n",
    "    result_sentance = []\n",
    "\n",
    "    # Приведение слов к нормальной форме (леммер + стеммер для причастий)\n",
    "    for word in word_tokenization:\n",
    "        if 'PRTF' in morph.parse(word.strip())[0].tag or 'PRTS' in morph.parse(word.strip())[0].tag:\n",
    "            result_word = sno.stem(word)\n",
    "        else:\n",
    "            result_word = morph.parse(word.strip())[0].normal_form\n",
    "\n",
    "        if result_word not in stop_words and len(result_word) > min_len_word:\n",
    "            result_sentance.append(result_word)\n",
    "\n",
    "    return ' '.join(result_sentance)"
   ]
  },
  {
   "cell_type": "code",
   "execution_count": 4,
   "metadata": {},
   "outputs": [
    {
     "name": "stderr",
     "output_type": "stream",
     "text": [
      "100%|██████████| 5769/5769 [01:29<00:00, 64.53it/s]\n"
     ]
    }
   ],
   "source": [
    "clean_description = Parallel(n_jobs=-1)(delayed(clean_text)(t)\n",
    "                                            for t in tqdm(df['description']))\n",
    "df['clean_description'] = clean_description"
   ]
  },
  {
   "cell_type": "code",
   "execution_count": 5,
   "metadata": {},
   "outputs": [],
   "source": [
    "vectorizer = TfidfVectorizer(ngram_range=(1, 2))"
   ]
  },
  {
   "cell_type": "code",
   "execution_count": 6,
   "metadata": {},
   "outputs": [],
   "source": [
    "X = vectorizer.fit_transform(df['clean_description'])\n",
    "df['vectorizer'] = list(X)"
   ]
  },
  {
   "cell_type": "code",
   "execution_count": 11,
   "metadata": {},
   "outputs": [],
   "source": [
    "def get_rec(title: tuple, df: pd.DataFrame, rating: tuple, poster_width: int = 700, num: int = 10) -> None:\n",
    "    df_target = df.loc[df[f'title_{title[1]}'] == title[0]].reset_index(drop=True)\n",
    "    \n",
    "    if len(df_target):\n",
    "        genres = '|'.join(df_target['genres'].values[0].split(','))\n",
    "        \n",
    "        df_neighbors = df.loc[(df[f'title_{title[1]}'] != title[0]) & (df['genres'].str.contains(genres)) & (df[f'{rating[1]}_rating'] >= rating[0])].reset_index(drop=True).copy()\n",
    "        \n",
    "        dists = []\n",
    "        \n",
    "        for i in tqdm(range(df_neighbors.shape[0])):\n",
    "            dist = 0\n",
    "            for x, y in zip(df_target['vectorizer'][0].toarray()[0], df_neighbors['vectorizer'][i].toarray()[0]):\n",
    "                dist += (x - y)**2\n",
    "            dists.append(sqrt(dist))\n",
    "            \n",
    "        df_neighbors['dists'] = dists\n",
    "        \n",
    "        print(f'Рекомендации для {title[0]}\\n')\n",
    "        \n",
    "        results = df_neighbors.sort_values(by='dists', ascending=True)[:num].reset_index()\n",
    "        \n",
    "        for i in results.index:\n",
    "            print(f\"{i+1}. {results.iloc[i]['title_ru']} | {results.iloc[i]['title_eng']} ({results.iloc[i]['year_start']})\")\n",
    "            try:\n",
    "                display(Image(url=results.iloc[i]['poster'], width=poster_width))\n",
    "            except ValueError:\n",
    "                print('Постер отсутствует')\n",
    "            except TypeError:\n",
    "                print('Постер отсутствует')\n",
    "            print(f\"Жанр: {results.iloc[i]['genres']}\\nОписание: {results.iloc[i]['description']}\")\n",
    "            print(f\"Myshows: {results.iloc[i]['myshows_rating']} ({results.iloc[i]['myshows_num']}) | KP: {results.iloc[i]['kp_rating']} ({results.iloc[i]['kp_num']}) | IMDB: {results.iloc[i]['imdb_rating']} ({results.iloc[i]['imdb_num']})\\n\\n\")\n",
    "        \n",
    "    else:\n",
    "        print('Упс! Такого еще нет в базе')"
   ]
  },
  {
   "cell_type": "code",
   "execution_count": 13,
   "metadata": {},
   "outputs": [
    {
     "name": "stderr",
     "output_type": "stream",
     "text": [
      "100%|██████████| 1685/1685 [01:53<00:00, 14.91it/s]"
     ]
    },
    {
     "name": "stdout",
     "output_type": "stream",
     "text": [
      "Рекомендации для Ёлки\n",
      "\n",
      "1. Ёлки 2 | nan (2011.0)\n"
     ]
    },
    {
     "name": "stderr",
     "output_type": "stream",
     "text": [
      "\n"
     ]
    },
    {
     "data": {
      "text/html": [
       "<img src=\"https://media.myshows.me/movies/normal/0/12/0122c45a2cda01b6633b9865ac53369e.jpg\" width=\"500\"/>"
      ],
      "text/plain": [
       "<IPython.core.display.Image object>"
      ]
     },
     "metadata": {},
     "output_type": "display_data"
    },
    {
     "name": "stdout",
     "output_type": "stream",
     "text": [
      "Жанр: Комедия,Романтика\n",
      "Описание: За этот год много чего произошло, но наступит день, который всё расставит на свои места. Продолжение новогодних историй, которые происходили в жизни героев в фильме «Ёлки».\n",
      "Myshows: 3.69 (27.0) | KP: 7.04 (139664) | IMDB: 6.2 (2408.0)\n",
      "\n",
      "\n",
      "2. Нежность | nan (2018.0)\n"
     ]
    },
    {
     "data": {
      "text/html": [
       "<img src=\"https://media.myshows.me/movies/normal/8/c8/8c8cf0256fda56fef627b35eb7cadc6d.jpg\" width=\"500\"/>"
      ],
      "text/plain": [
       "<IPython.core.display.Image object>"
      ]
     },
     "metadata": {},
     "output_type": "display_data"
    },
    {
     "name": "stdout",
     "output_type": "stream",
     "text": [
      "Жанр: Комедия,Комедия\n",
      "Описание: Один день из жизни Елены Ивановны в Санкт-Петербурге в поисках мужчины, секса и, может быть, любви.\n",
      "Myshows: nan (nan) | KP: 7.6 (6187) | IMDB: 7.4 (170.0)\n",
      "\n",
      "\n",
      "3. Ёлки 3 | nan (2013.0)\n"
     ]
    },
    {
     "data": {
      "text/html": [
       "<img src=\"https://media.myshows.me/movies/normal/4/05/405247d819a03ab69b8742aef0ddf5a2.jpg\" width=\"500\"/>"
      ],
      "text/plain": [
       "<IPython.core.display.Image object>"
      ]
     },
     "metadata": {},
     "output_type": "display_data"
    },
    {
     "name": "stdout",
     "output_type": "stream",
     "text": [
      "Жанр: Комедия\n",
      "Описание: Спустя два года они снова с нами: любимые герои «Ёлок» в самых невероятных новогодних историях. Боря и Женя, чьи годовалые дети в канун праздника доведут друзей до психушки. Маленькая девочка Настя, чьи родители разлучат ее влюбленных друг в друга собак. Лыжник и сноубордист в самой экстремальной в их жизни гонке — от военкома. И профессор из Екатеринбурга Андрей, чья любвеобильность вновь не доведет его до добра, а только до проруби в минус 30.  Под бой курантов этих и новых героев «Ёлок» объединит бумеранг добра. Завершая свой круг, он заслуженно вернётся к каждому, кто его однажды запустил — кому улыбками и объятиями любимых и друзей, кому — праздничным настроением и соответствующим градусу состоянием, а кому-то… телефоном в холодце!\n",
      "Myshows: 3.38 (49.0) | KP: 6.49 (100680) | IMDB: 5.4 (1594.0)\n",
      "\n",
      "\n",
      "4. Старый Новый год | New Year\"s Eve (2011.0)\n"
     ]
    },
    {
     "data": {
      "text/html": [
       "<img src=\"https://media.myshows.me/movies/normal/7/5c/75ce9bac27d9be87e6e169d31199e95c.jpg\" width=\"500\"/>"
      ],
      "text/plain": [
       "<IPython.core.display.Image object>"
      ]
     },
     "metadata": {},
     "output_type": "display_data"
    },
    {
     "name": "stdout",
     "output_type": "stream",
     "text": [
      "Жанр: Комедия,Романтика\n",
      "Описание: Герои фильма — жители города, который никогда не спит. Нью-Йорк накануне Нового года переплетет жизни нескольких героев: умирающего в больнице пожилого человека, секретаршу, решившую осуществить данные себе обещания, продюсера знаменитого новогоднего шоу на Таймс Сквер, человека, который вообще ненавидит этот праздник.\n",
      "Myshows: 4.23 (11.0) | KP: 6.86 (41847) | IMDB: 5.6 (85805.0)\n",
      "\n",
      "\n",
      "5. Долгое падение | A Long Way Down (2014.0)\n"
     ]
    },
    {
     "data": {
      "text/html": [
       "<img src=\"https://media.myshows.me/movies/normal/1/19/1194dd1633ae19095ff92e9c05ed257e.jpg\" width=\"500\"/>"
      ],
      "text/plain": [
       "<IPython.core.display.Image object>"
      ]
     },
     "metadata": {},
     "output_type": "display_data"
    },
    {
     "name": "stdout",
     "output_type": "stream",
     "text": [
      "Жанр: Комедия,Драма\n",
      "Описание: Четверо незнакомцев встречаются в канун Нового Года на крыше лондонского небоскреба. Каждый из них поднялся с одной целью — прыгнуть. Очередь в лучший мир заставляет их заключить пакт — дожить до Дня всех влюбленных и оторваться по полной.\n",
      "Myshows: 3.67 (9.0) | KP: 6.57 (15520) | IMDB: 6.3 (33444.0)\n",
      "\n",
      "\n"
     ]
    }
   ],
   "source": [
    "get_rec(\n",
    "    title=('Ёлки', 'ru'),\n",
    "    df=df,\n",
    "    poster_width=500,\n",
    "    rating=(6, 'kp'),\n",
    "    num=5\n",
    ")"
   ]
  },
  {
   "cell_type": "code",
   "execution_count": null,
   "metadata": {},
   "outputs": [],
   "source": []
  }
 ],
 "metadata": {
  "kernelspec": {
   "display_name": "env",
   "language": "python",
   "name": "python3"
  },
  "language_info": {
   "codemirror_mode": {
    "name": "ipython",
    "version": 3
   },
   "file_extension": ".py",
   "mimetype": "text/x-python",
   "name": "python",
   "nbconvert_exporter": "python",
   "pygments_lexer": "ipython3",
   "version": "3.8.8"
  },
  "orig_nbformat": 4
 },
 "nbformat": 4,
 "nbformat_minor": 2
}
